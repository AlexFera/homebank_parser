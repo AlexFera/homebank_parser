{
 "cells": [
  {
   "cell_type": "code",
   "execution_count": null,
   "metadata": {},
   "outputs": [],
   "source": [
    "import pandas as pd\n",
    "import re\n",
    "import csv\n",
    "import locale\n",
    "import matplotlib.pyplot as plt\n",
    "import dateparser\n",
    "from datetime import datetime\n",
    "from os import walk\n",
    "from os import listdir\n",
    "from os.path import isfile, join\n",
    "from parsita import *\n",
    "from parsita.util import constant\n",
    "from calendar import month_abbr"
   ]
  },
  {
   "cell_type": "code",
   "execution_count": null,
   "metadata": {},
   "outputs": [],
   "source": [
    "#grammar CSV;\n",
    " \n",
    "#file  : hdr row+ ;\n",
    "#hdr   : row ;\n",
    "#row   : field (',' field)* '\\r'? '\\n' ;\n",
    "#field : TEXT | STRING | ;\n",
    " \n",
    "#TEXT   : ~[,\\n\\r\"]+ ;\n",
    "#STRING : '\"' ('\"\"'|~'\"')* '\"' ; // quote-quote is an escaped quote\n",
    "\n",
    "class CsvParsers(TextParsers, whitespace=None):\n",
    "    comma = lit(',') \n",
    "    dquote = lit('\\\"')\n",
    "    dquote2 = lit('\\\"\\\"') > lit('\\\"')  # combine 2 dquotes into 1\n",
    "    crlf = lit('\\r\\n') | lit('\\n')\n",
    "    txt = reg('[^\\\",\\r\\n]')\n",
    "    spaces = reg('[ \\t]+')\n",
    "\n",
    "    escaped = opt(spaces) >> dquote >> rep(comma | crlf | txt | dquote2) << dquote << opt(spaces) > ''.join\n",
    "    nonescaped = rep(txt) > ''.join\n",
    "    field = escaped | nonescaped\n",
    "    record = repsep(field, comma)    \n",
    "    file = repsep(record, crlf) << opt(crlf)    "
   ]
  },
  {
   "cell_type": "code",
   "execution_count": null,
   "metadata": {},
   "outputs": [],
   "source": [
    "def as_float(value):\n",
    "    if (len(value) > 1):\n",
    "        money = value.replace(\".\", \"\").replace(\",\",\".\").lstrip()\n",
    "        return float(money)\n",
    "    \n",
    "def as_date(value):\n",
    "    return dateparser.parse(value).date()\n",
    "\n",
    "def as_summary(value):\n",
    "    summary = []\n",
    "    summary.append(value[0])\n",
    "    summary.append(value[1])\n",
    "    summary.append(value[2][0][0])\n",
    "    summary.append(value[2][1][0])\n",
    "    \n",
    "    return summary\n",
    "\n",
    "def as_record(value):\n",
    "    record = value[0]\n",
    "    details = ' '.join(value[1])\n",
    "    record.append(details)\n",
    "    \n",
    "    return record"
   ]
  },
  {
   "cell_type": "code",
   "execution_count": null,
   "metadata": {
    "scrolled": true
   },
   "outputs": [],
   "source": [
    "# Data,,,Detalii tranzactie,,Debit,Credit\n",
    "\n",
    "class IngParsers(TextParsers, whitespace=None):\n",
    "    two_commas = lit(',,')\n",
    "    three_commas = lit(',,,')\n",
    "    \n",
    "    header = lit('Data') >> rep1sep(CsvParsers.field, CsvParsers.comma)  >> CsvParsers.crlf\n",
    "    date = reg(r'\\d{2}\\s(ianuarie|februarie|martie|aprilie|mai|iunie|iulie|august|septembrie|octombrie|noiembrie|decembrie)\\s\\d{4}') > as_date\n",
    "    transaction_detail = (three_commas) >> CsvParsers.field << repsep(CsvParsers.field, CsvParsers.comma)\n",
    "    transaction_details = rep(transaction_detail << CsvParsers.crlf)\n",
    "    decimal = CsvParsers.field > as_float\n",
    "    debit_credit = (opt(decimal) << CsvParsers.comma) & opt(decimal)\n",
    "    summary_line = (date << three_commas) & (CsvParsers.field << two_commas) & debit_credit > as_summary\n",
    "    footer_line = CsvParsers.comma & CsvParsers.field & three_commas & CsvParsers.field & two_commas & CsvParsers.crlf\n",
    "    footer_message = two_commas & CsvParsers.field & two_commas & CsvParsers.field & two_commas & CsvParsers.crlf\n",
    "    footer = footer_line & footer_line & footer_message\n",
    "    \n",
    "    record = (summary_line << CsvParsers.crlf) & transaction_details << opt((footer & header) | footer) > as_record\n",
    "    \n",
    "    records = header >> rep(record)"
   ]
  },
  {
   "cell_type": "code",
   "execution_count": null,
   "metadata": {},
   "outputs": [],
   "source": [
    "ing_records = []\n",
    "folder_path = \"/home/\"\n",
    "filePaths = [f for f in listdir(folder_path) if isfile(join(folder_path, f))]\n",
    "for filePath in filePaths:  \n",
    "    with open (folder_path + filePath, 'r') as csvFile:\n",
    "        data = csvFile.read()\n",
    "        success = IngParsers.records.parse(data)\n",
    "        ing_records = ing_records + success.value\n",
    "    \n",
    "pd.set_option('display.max_rows', None)\n",
    "df = pd.DataFrame.from_records(ing_records, columns = ['Date' , 'TransactionType', 'Debit', 'Credit', 'TransactionDetails'])\n",
    "\n",
    "df"
   ]
  }
 ],
 "metadata": {
  "kernelspec": {
   "display_name": "Python 3",
   "language": "python",
   "name": "python3"
  },
  "language_info": {
   "codemirror_mode": {
    "name": "ipython",
    "version": 3
   },
   "file_extension": ".py",
   "mimetype": "text/x-python",
   "name": "python",
   "nbconvert_exporter": "python",
   "pygments_lexer": "ipython3",
   "version": "3.7.6-final"
  },
  "varInspector": {
   "cols": {
    "lenName": 16,
    "lenType": 16,
    "lenVar": 40
   },
   "kernels_config": {
    "python": {
     "delete_cmd_postfix": "",
     "delete_cmd_prefix": "del ",
     "library": "var_list.py",
     "varRefreshCmd": "print(var_dic_list())"
    },
    "r": {
     "delete_cmd_postfix": ") ",
     "delete_cmd_prefix": "rm(",
     "library": "var_list.r",
     "varRefreshCmd": "cat(var_dic_list()) "
    }
   },
   "types_to_exclude": [
    "module",
    "function",
    "builtin_function_or_method",
    "instance",
    "_Feature"
   ],
   "window_display": false
  }
 },
 "nbformat": 4,
 "nbformat_minor": 4
}